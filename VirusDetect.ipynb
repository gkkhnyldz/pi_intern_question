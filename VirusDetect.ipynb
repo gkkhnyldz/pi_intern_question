{
  "nbformat": 4,
  "nbformat_minor": 0,
  "metadata": {
    "colab": {
      "provenance": [],
      "include_colab_link": true
    },
    "kernelspec": {
      "name": "python3",
      "display_name": "Python 3"
    },
    "language_info": {
      "name": "python"
    }
  },
  "cells": [
    {
      "cell_type": "markdown",
      "metadata": {
        "id": "view-in-github",
        "colab_type": "text"
      },
      "source": [
        "<a href=\"https://colab.research.google.com/github/gkkhnyldz/pi_intern_question/blob/main/VirusDetect.ipynb\" target=\"_parent\"><img src=\"https://colab.research.google.com/assets/colab-badge.svg\" alt=\"Open In Colab\"/></a>"
      ]
    },
    {
      "cell_type": "markdown",
      "source": [
        "Let's first check the types of our values in the dataset."
      ],
      "metadata": {
        "id": "HLEuDSFjLIHM"
      }
    },
    {
      "cell_type": "code",
      "source": [
        "\n",
        "import numpy as np\n",
        "import pandas as pd\n",
        "\n",
        "df=pd.read_csv('dataset.csv')\n",
        "\n",
        "df.info()\n",
        "\n"
      ],
      "metadata": {
        "colab": {
          "base_uri": "https://localhost:8080/"
        },
        "id": "vv_w-FWRpImn",
        "outputId": "102e96d7-98f4-4b8b-9c46-b2f1481ce0c1"
      },
      "execution_count": 77,
      "outputs": [
        {
          "output_type": "stream",
          "name": "stdout",
          "text": [
            "<class 'pandas.core.frame.DataFrame'>\n",
            "RangeIndex: 1999 entries, 0 to 1998\n",
            "Data columns (total 5 columns):\n",
            " #   Column     Non-Null Count  Dtype  \n",
            "---  ------     --------------  -----  \n",
            " 0   feature_1  1897 non-null   float64\n",
            " 1   feature_2  1899 non-null   float64\n",
            " 2   feature_3  1893 non-null   float64\n",
            " 3   feature_4  1897 non-null   float64\n",
            " 4   isVirus    1999 non-null   bool   \n",
            "dtypes: bool(1), float64(4)\n",
            "memory usage: 64.5 KB\n"
          ]
        }
      ]
    },
    {
      "cell_type": "markdown",
      "source": [
        "Let's check if there is any correlation between our variables.\n",
        "\n",
        "\n",
        "\n"
      ],
      "metadata": {
        "id": "Qd8LzW9GLTc-"
      }
    },
    {
      "cell_type": "code",
      "source": [
        "import seaborn as sns\n",
        "\n",
        "corr_matrix = df.corr()\n",
        "sns.heatmap(corr_matrix, annot=True, cmap='coolwarm')\n"
      ],
      "metadata": {
        "colab": {
          "base_uri": "https://localhost:8080/",
          "height": 287
        },
        "id": "7lrpSxWrqXvj",
        "outputId": "d2c4663b-e6e4-4e55-9963-159e8274e0f4"
      },
      "execution_count": 79,
      "outputs": [
        {
          "output_type": "execute_result",
          "data": {
            "text/plain": [
              "<AxesSubplot:>"
            ]
          },
          "metadata": {},
          "execution_count": 79
        },
        {
          "output_type": "display_data",
          "data": {
            "text/plain": [
              "<Figure size 432x288 with 2 Axes>"
            ],
            "image/png": "[encoded data removed]"
          },
          "metadata": {
            "needs_background": "light"
          }
        }
      ]
    },
    {
      "cell_type": "markdown",
      "source": [
        "There is a correlation of 0.79 between feature 1 and feature 4. It can be investigated where these features come from and what they represent. After researching their meaning, further analysis can be conducted on these features."
      ],
      "metadata": {
        "id": "hfyuBXFIMoF9"
      }
    },
    {
      "cell_type": "markdown",
      "source": [
        "Let's examine the distribution of viruses."
      ],
      "metadata": {
        "id": "gVwQ8FJxMqL9"
      }
    },
    {
      "cell_type": "code",
      "source": [
        "import seaborn as sns\n",
        "import matplotlib.pyplot as plt\n",
        "\n",
        "sns.countplot(x='isVirus', data=df)\n",
        "plt.show()\n"
      ],
      "metadata": {
        "colab": {
          "base_uri": "https://localhost:8080/",
          "height": 279
        },
        "id": "UfQLBBUqDyOI",
        "outputId": "5e02a413-1ddb-4711-fa56-fe0ba658f116"
      },
      "execution_count": 80,
      "outputs": [
        {
          "output_type": "display_data",
          "data": {
            "text/plain": [
              "<Figure size 432x288 with 1 Axes>"
            ],
            "image/png": "[encoded data removed]"
          },
          "metadata": {
            "needs_background": "light"
          }
        }
      ]
    },
    {
      "cell_type": "code",
      "source": [
        "import matplotlib.pyplot as plt\n",
        "\n",
        "virus_df = df[df['isVirus'] == True]\n",
        "nonvirus_df = df[df['isVirus'] == False]\n",
        "\n",
        "features = ['feature_1', 'feature_2', 'feature_3', 'feature_4']\n",
        "\n",
        "for feature in features:\n",
        "    plt.hist(virus_df[feature], bins=20, alpha=0.5, label='Virus')\n",
        "    plt.hist(nonvirus_df[feature], bins=20, alpha=0.5, label='Non-Virus')\n",
        "    plt.legend(loc='upper right')\n",
        "    plt.title(f'Distribution of {feature}')\n",
        "    plt.show()\n"
      ],
      "metadata": {
        "colab": {
          "base_uri": "https://localhost:8080/",
          "height": 1000
        },
        "id": "0_W8d6JGE2AI",
        "outputId": "465be4fd-5b61-4a1f-8c85-73884747029b"
      },
      "execution_count": 82,
      "outputs": [
        {
          "output_type": "display_data",
          "data": {
            "text/plain": [
              "<Figure size 432x288 with 1 Axes>"
            ],
            "image/png": "[encoded data removed]"
          },
          "metadata": {
            "needs_background": "light"
          }
        },
        {
          "output_type": "display_data",
          "data": {
            "text/plain": [
              "<Figure size 432x288 with 1 Axes>"
            ],
            "image/png": "[encoded data removed]"
          },
          "metadata": {
            "needs_background": "light"
          }
        },
        {
          "output_type": "display_data",
          "data": {
            "text/plain": [
              "<Figure size 432x288 with 1 Axes>"
            ],
            "image/png": "[encoded data removed]"
          },
          "metadata": {
            "needs_background": "light"
          }
        },
        {
          "output_type": "display_data",
          "data": {
            "text/plain": [
              "<Figure size 432x288 with 1 Axes>"
            ],
            "image/png": "[encoded data removed]"
          },
          "metadata": {
            "needs_background": "light"
          }
        }
      ]
    },
    {
      "cell_type": "markdown",
      "source": [
        "Based on this, it can be seen that viruses are mostly present in the -2 to 0 value range of feature 1 and feature 4. In features 2 and 3, viruses are mostly present in the range of 0 to 4. Therefore, further analysis is required on the data with these value ranges."
      ],
      "metadata": {
        "id": "QzxcJwtqM8kF"
      }
    },
    {
      "cell_type": "code",
      "source": [
        "df[\"isVirus\"] = df[\"isVirus\"].astype(int)\n",
        "\n",
        "\n",
        "\n",
        "# feature 1 ve feature 4 verilerindeki -2 ile 0 arasındaki verilerin sayısını hesapla\n",
        "count = df[(df['feature_1'] >= -2) & (df['feature_1'] <= 0) & (df['feature_4'] >= -2) & (df['feature_4'] <= 0)]['isVirus'].sum()\n",
        "y=df[(df['feature_1'] >= -2) & (df['feature_1'] <= 0) & (df['feature_4'] >= -2) & (df['feature_4'] <= 0)]['isVirus']\n",
        "a=df['isVirus'].sum()\n",
        "# Sonucu yazdır\n",
        "print(f\" there is {y.size} data  within the specified range.\")\n",
        "print(f\"{count} Virus detected within the specified range.\")\n",
        "print(f\"{a} Virus detected within the specified data.\")\n",
        "\n"
      ],
      "metadata": {
        "colab": {
          "base_uri": "https://localhost:8080/"
        },
        "id": "d8OLzhv1OTbg",
        "outputId": "9f427239-6825-419b-a76e-b2bf32a1772c"
      },
      "execution_count": 152,
      "outputs": [
        {
          "output_type": "stream",
          "name": "stdout",
          "text": [
            " there is 706 data  within the specified range.\n",
            "352 Virus detected within the specified range.\n",
            "667 Virus detected within the specified data.\n"
          ]
        }
      ]
    },
    {
      "cell_type": "code",
      "source": [
        "Based on these data, it can be suggested that the IT team should work on these data. More than half of the total 667 viruses are found in only 706 data, while 300 of them are found in the dataset of 1300."
      ],
      "metadata": {
        "id": "U8VCmiUVP4Z-"
      },
      "execution_count": null,
      "outputs": []
    },
    {
      "cell_type": "markdown",
      "source": [
        "Here, we are trying to fill our missing values with the median and testing for our models. Then, we will fill the missing values with KNN and examine the results for our models."
      ],
      "metadata": {
        "id": "exWrMeczSqM3"
      }
    },
    {
      "cell_type": "code",
      "source": [
        "from sklearn.model_selection import StratifiedKFold\n",
        "\n",
        "from sklearn.impute import SimpleImputer\n",
        "from sklearn.neighbors import KNeighborsClassifier\n",
        "from sklearn import metrics\n",
        "from sklearn.impute import SimpleImputer\n",
        "from sklearn.model_selection import train_test_split\n",
        "#We classify our data over knn by calling the Knn algorithm from the #Sklearn library\n",
        "from sklearn.model_selection import train_test_split\n",
        "from sklearn.impute import SimpleImputer\n",
        "from sklearn.neural_network import MLPClassifier\n",
        "from sklearn.model_selection import train_test_split\n",
        "from sklearn.metrics import accuracy_score\n",
        "import pandas as pd\n",
        "import statistics\n",
        "\n",
        "\n",
        "imputer = SimpleImputer(strategy='median')\n",
        "\n",
        "scores = []\n",
        "kfold = 10\n",
        "\n",
        "skfolds = StratifiedKFold(n_splits=kfold)\n",
        "X = imputer.fit_transform(X)\n",
        "\n",
        "bestScore = 0\n",
        "bestK = 0\n",
        "for k in range(1, 35, 2):\n",
        "    knn = KNeighborsClassifier(n_neighbors=k)\n",
        "    knnScores = cross_val_score(knn, X, y, cv=kfold, scoring=\"accuracy\")\n",
        "  \n",
        "    X = df.drop('isVirus', axis=1) # featurelar\n",
        "    X = imputer.fit_transform(X)\n",
        "\n",
        "    y = df['isVirus'] # hedef sütun\n",
        "\n",
        "    X_train, X_test, y_train, y_test = train_test_split(X, y, test_size=0.2, random_state=42)\n",
        "    knn = KNeighborsClassifier(n_neighbors=1)\n",
        "    knn.fit(X_train, y_train)\n",
        "\n",
        "    y_pred_knn= knn.predict(X_test)\n",
        "\n",
        "    knnScore = statistics.mean(knnScores)\n",
        "    scores.append(knnScore)\n",
        "    \n",
        "    print('Average accuracy in ', kfold, '- fold cross-validation for KNN with K=', k, ' is ', knnScore)\n",
        "    if knnScore > bestScore:\n",
        "        bestScore = knnScore\n",
        "        bestK = k\n",
        "\n",
        "print('')\n",
        "print('Best K is ', bestK, ' with best score as ', bestScore)\n",
        "\n",
        "plt.plot(scores)\n",
        "plt.title('K-fold Cross Validation, Test Accuracies with respect to K (for KNN)')\n"
      ],
      "metadata": {
        "colab": {
          "base_uri": "https://localhost:8080/",
          "height": 628
        },
        "id": "cXAJXBc8KQU4",
        "outputId": "7f7b87d0-ce82-47ad-d2ee-7e7f41115352"
      },
      "execution_count": 88,
      "outputs": [
        {
          "output_type": "stream",
          "name": "stdout",
          "text": [
            "Average accuracy in  10 - fold cross-validation for KNN with K= 1  is  0.833964824120603\n",
            "Average accuracy in  10 - fold cross-validation for KNN with K= 3  is  0.8479698492462311\n",
            "Average accuracy in  10 - fold cross-validation for KNN with K= 5  is  0.8519673366834171\n",
            "Average accuracy in  10 - fold cross-validation for KNN with K= 7  is  0.8504723618090452\n",
            "Average accuracy in  10 - fold cross-validation for KNN with K= 9  is  0.8429723618090452\n",
            "Average accuracy in  10 - fold cross-validation for KNN with K= 11  is  0.8414723618090452\n",
            "Average accuracy in  10 - fold cross-validation for KNN with K= 13  is  0.8369698492462312\n",
            "Average accuracy in  10 - fold cross-validation for KNN with K= 15  is  0.831967336683417\n",
            "Average accuracy in  10 - fold cross-validation for KNN with K= 17  is  0.829967336683417\n",
            "Average accuracy in  10 - fold cross-validation for KNN with K= 19  is  0.8244673366834171\n",
            "Average accuracy in  10 - fold cross-validation for KNN with K= 21  is  0.8254648241206031\n",
            "Average accuracy in  10 - fold cross-validation for KNN with K= 23  is  0.826464824120603\n",
            "Average accuracy in  10 - fold cross-validation for KNN with K= 25  is  0.8264623115577889\n",
            "Average accuracy in  10 - fold cross-validation for KNN with K= 27  is  0.8224648241206031\n",
            "Average accuracy in  10 - fold cross-validation for KNN with K= 29  is  0.818964824120603\n",
            "Average accuracy in  10 - fold cross-validation for KNN with K= 31  is  0.8204623115577889\n",
            "Average accuracy in  10 - fold cross-validation for KNN with K= 33  is  0.8169572864321608\n",
            "\n",
            "Best K is  5  with best score as  0.8519673366834171\n"
          ]
        },
        {
          "output_type": "execute_result",
          "data": {
            "text/plain": [
              "Text(0.5, 1.0, 'K-fold Cross Validation, Test Accuracies with respect to K (for KNN)')"
            ]
          },
          "metadata": {},
          "execution_count": 88
        },
        {
          "output_type": "display_data",
          "data": {
            "text/plain": [
              "<Figure size 432x288 with 1 Axes>"
            ],
            "image/png": "[encoded data removed]"
          },
          "metadata": {
            "needs_background": "light"
          }
        }
      ]
    },
    {
      "cell_type": "markdown",
      "source": [
        "Here we choose the value of k as 5, which gave the best result."
      ],
      "metadata": {
        "id": "IvGBLpAxTDox"
      }
    },
    {
      "cell_type": "markdown",
      "source": [],
      "metadata": {
        "id": "LnSrO_MuTDc2"
      }
    },
    {
      "cell_type": "code",
      "source": [
        "knn = KNeighborsClassifier(n_neighbors=5)\n",
        "knn.fit(X_train, y_train)\n",
        "\n",
        "y_pred_knn= knn.predict(X_test)\n",
        "accuracy = accuracy_score(y_test, y_pred_knn)\n",
        "print('Accuracy:', accuracy)\n"
      ],
      "metadata": {
        "colab": {
          "base_uri": "https://localhost:8080/"
        },
        "id": "J-iV9XAtAS9-",
        "outputId": "812e949a-2ef5-40b2-8e55-b16b20fae4f4"
      },
      "execution_count": 89,
      "outputs": [
        {
          "output_type": "stream",
          "name": "stdout",
          "text": [
            "Accuracy: 0.85\n"
          ]
        }
      ]
    },
    {
      "cell_type": "markdown",
      "source": [
        "Create a MLPClassifier model"
      ],
      "metadata": {
        "id": "rDTDb5kuTcXH"
      }
    },
    {
      "cell_type": "code",
      "source": [
        "X_train, X_test, y_train, y_test = train_test_split(X, y, test_size=0.2, random_state=42)\n",
        "\n",
        "# Create a multi-layer perceptron neural network\n",
        "mlp = MLPClassifier(hidden_layer_sizes=(10, 5), max_iter=1000)\n",
        "\n",
        "mlp.fit(X_train, y_train)\n",
        "\n",
        "\n",
        "y_pred = mlp.predict(X_test)\n",
        "\n",
        "\n",
        "accuracy = accuracy_score(y_test, y_pred)\n",
        "print('Accuracy:', accuracy)\n"
      ],
      "metadata": {
        "colab": {
          "base_uri": "https://localhost:8080/"
        },
        "id": "SSohHB13_F_y",
        "outputId": "5a99463c-0c76-4d3b-e905-f2e0f4804280"
      },
      "execution_count": 95,
      "outputs": [
        {
          "output_type": "stream",
          "name": "stdout",
          "text": [
            "Accuracy: 0.7925\n"
          ]
        }
      ]
    },
    {
      "cell_type": "code",
      "source": [
        "##Here again, we call the svm classifier from the sklearn library and get the results.\"\"\"\n",
        "from sklearn.model_selection import cross_val_score\n",
        "from sklearn.svm import SVC\n",
        "import numpy as np\n",
        "import pandas as pd\n",
        "\n",
        "clf = SVC(kernel='linear', C=1, random_state=42)\n",
        "\n",
        "\n",
        "scores = cross_val_score(clf, X, y, cv=5)\n",
        "\n",
        "mean_accuracy = np.mean(scores)\n",
        "\n",
        "print(\"Cross-Validation Sonuçları: \", scores)\n",
        "print(\"Ortalama Doğruluk Değeri: \", mean_accuracy)\n",
        "\n",
        "\n",
        "from sklearn import svm\n",
        "\n",
        "svm = svm.SVC(kernel='linear', probability=True)\n",
        "svm.fit(X_train, y_train)\n",
        "y_pred_svm = svm.predict(X_test)\n",
        "\n",
        "\n",
        "print(\"Test accuracy score for SVM classification is: \",metrics.accuracy_score(y_test, y_pred_svm))"
      ],
      "metadata": {
        "colab": {
          "base_uri": "https://localhost:8080/"
        },
        "id": "4yKA6Ddbqc-w",
        "outputId": "94a388fc-637d-4b1d-f1a5-232f9e1f7eaf"
      },
      "execution_count": 96,
      "outputs": [
        {
          "output_type": "stream",
          "name": "stdout",
          "text": [
            "Cross-Validation Sonuçları:  [0.46       0.2575     0.6625     0.665      0.66666667]\n",
            "Ortalama Doğruluk Değeri:  0.5423333333333333\n",
            "Test accuracy score for SVM classification is:  0.68\n"
          ]
        }
      ]
    },
    {
      "cell_type": "code",
      "source": [
        "##Here, we finally classify using the Naïve Bayes library on our data.\n",
        "from sklearn.naive_bayes import GaussianNB\n",
        "\n",
        "nb = GaussianNB()\n",
        "nb.fit(X_train, y_train)\n",
        "\n",
        "y_pred_nb = nb.predict(X_test)\n",
        "\n",
        "print(\"Test accuracy score for Naive Bayes classification is: \",metrics.accuracy_score(y_test, y_pred_nb))"
      ],
      "metadata": {
        "colab": {
          "base_uri": "https://localhost:8080/"
        },
        "id": "2Ix6BkEEqgH4",
        "outputId": "d5b3fedd-3429-4b81-9ce3-7920efaf3b4f"
      },
      "execution_count": 97,
      "outputs": [
        {
          "output_type": "stream",
          "name": "stdout",
          "text": [
            "Test accuracy score for Naive Bayes classification is:  0.6825\n"
          ]
        }
      ]
    },
    {
      "cell_type": "code",
      "source": [
        "## Likewise, by calling the confusion_matrix algorithm from the sklearn.metrics library, \n",
        "##we create confusion matrixes of the predictions we made above with different classifications.\n",
        "from sklearn.metrics import confusion_matrix, classification_report\n",
        "\n",
        "conf_mtrx_knn = confusion_matrix(y_test, y_pred_knn)\n",
        "conf_mtrx_svm = confusion_matrix(y_test, y_pred_svm)\n",
        "conf_mtrx_nb = confusion_matrix(y_test, y_pred_nb)\n",
        "conf_mtrx_multly = confusion_matrix(y_test, y_pred)\n",
        "\n",
        "classification_report_knn = classification_report(y_test, y_pred_knn)\n",
        "classification_report_svm = classification_report(y_test, y_pred_svm)\n",
        "classification_report_nb = classification_report(y_test, y_pred_nb)\n",
        "classification_report_multly = classification_report(y_test, y_pred)\n",
        "\n",
        "from matplotlib import pyplot as plt\n",
        "\n",
        "def plot_confusion_matrix(conf_mtrx, classes, cmap=plt.cm.Blues):\n",
        "    num_class = conf_mtrx.shape[0]\n",
        "\n",
        "    fig, ax = plt.subplots()\n",
        "    im = ax.imshow(conf_mtrx, interpolation='nearest', cmap=cmap)\n",
        "    ax.figure.colorbar(im, ax=ax)\n",
        "    ax.set(xticks=np.arange(num_class), yticks=np.arange(num_class),\n",
        "           xticklabels=classes, yticklabels=classes, \n",
        "           ylabel='True label', xlabel='Predicted label')\n",
        "\n",
        "    middle_threshold = conf_mtrx.max() / 2.\n",
        "    for row in range(num_class):\n",
        "        for col in range(num_class):\n",
        "            ax.text(col, row, format(conf_mtrx[row, col], '.0f'), ha=\"center\", va=\"center\",\n",
        "                    color=\"white\" if conf_mtrx[row, col] > middle_threshold else \"black\")\n",
        "    fig.tight_layout()\n",
        "    plt.show()\n",
        "\n"
      ],
      "metadata": {
        "id": "OeK0aFCHq6fY"
      },
      "execution_count": 98,
      "outputs": []
    },
    {
      "cell_type": "markdown",
      "source": [
        "We use the confusion matrix to see how accurately we predicted the viruses.\n",
        "\n",
        "\n",
        "\n"
      ],
      "metadata": {
        "id": "kLKy9rpKUaTi"
      }
    },
    {
      "cell_type": "code",
      "source": [
        "\n",
        "plot_confusion_matrix(conf_mtrx_knn, np.unique(df.isVirus), cmap=plt.cm.Blues)\n",
        "print(classification_report_knn)\n"
      ],
      "metadata": {
        "colab": {
          "base_uri": "https://localhost:8080/",
          "height": 453
        },
        "id": "BS0WAewIrJ85",
        "outputId": "846fd94d-701c-4655-fd0d-615179d0c34c"
      },
      "execution_count": 42,
      "outputs": [
        {
          "output_type": "display_data",
          "data": {
            "text/plain": [
              "<Figure size 432x288 with 2 Axes>"
            ],
            "image/png": "[encoded data removed]"
          },
          "metadata": {
            "needs_background": "light"
          }
        },
        {
          "output_type": "stream",
          "name": "stdout",
          "text": [
            "              precision    recall  f1-score   support\n",
            "\n",
            "       False       0.86      0.92      0.89       263\n",
            "        True       0.82      0.72      0.77       137\n",
            "\n",
            "    accuracy                           0.85       400\n",
            "   macro avg       0.84      0.82      0.83       400\n",
            "weighted avg       0.85      0.85      0.85       400\n",
            "\n"
          ]
        }
      ]
    },
    {
      "cell_type": "markdown",
      "source": [
        "In our KNN model, 22 viruses were incorrectly detected, and 38 data points were falsely classified as viruses. In the following confusion matrices, we will assume that the company's main goal is to correctly detect viruses and that issuing a false positive warning is only a precautionary measure that would not create a significant problem. Therefore, we will consider TP value more important."
      ],
      "metadata": {
        "id": "M9ClJFSxUqSq"
      }
    },
    {
      "cell_type": "markdown",
      "source": [],
      "metadata": {
        "id": "pMQJSeSvUYLD"
      }
    },
    {
      "cell_type": "code",
      "source": [
        "plot_confusion_matrix(conf_mtrx_svm, np.unique(df.isVirus), cmap=plt.cm.Blues)\n",
        "print(classification_report_svm)"
      ],
      "metadata": {
        "colab": {
          "base_uri": "https://localhost:8080/",
          "height": 453
        },
        "id": "_BUjc6gerM9O",
        "outputId": "7aa2eb69-6ec2-48c0-fd0b-468c3106af36"
      },
      "execution_count": 99,
      "outputs": [
        {
          "output_type": "display_data",
          "data": {
            "text/plain": [
              "<Figure size 432x288 with 2 Axes>"
            ],
            "image/png": "[encoded data removed]"
          },
          "metadata": {
            "needs_background": "light"
          }
        },
        {
          "output_type": "stream",
          "name": "stdout",
          "text": [
            "              precision    recall  f1-score   support\n",
            "\n",
            "       False       0.70      0.89      0.78       263\n",
            "        True       0.57      0.28      0.38       137\n",
            "\n",
            "    accuracy                           0.68       400\n",
            "   macro avg       0.63      0.59      0.58       400\n",
            "weighted avg       0.66      0.68      0.65       400\n",
            "\n"
          ]
        }
      ]
    },
    {
      "cell_type": "code",
      "source": [
        "plot_confusion_matrix(conf_mtrx_nb, np.unique(df.isVirus), cmap=plt.cm.Blues)\n",
        "print(classification_report_nb)\n",
        "\n"
      ],
      "metadata": {
        "colab": {
          "base_uri": "https://localhost:8080/",
          "height": 453
        },
        "id": "T3Vz6YtTrOz_",
        "outputId": "536559ae-1930-4902-8178-731d7b4ec05f"
      },
      "execution_count": 100,
      "outputs": [
        {
          "output_type": "display_data",
          "data": {
            "text/plain": [
              "<Figure size 432x288 with 2 Axes>"
            ],
            "image/png": "[encoded data removed]"
          },
          "metadata": {
            "needs_background": "light"
          }
        },
        {
          "output_type": "stream",
          "name": "stdout",
          "text": [
            "              precision    recall  f1-score   support\n",
            "\n",
            "       False       0.87      0.61      0.72       263\n",
            "        True       0.52      0.82      0.64       137\n",
            "\n",
            "    accuracy                           0.68       400\n",
            "   macro avg       0.69      0.71      0.68       400\n",
            "weighted avg       0.75      0.68      0.69       400\n",
            "\n"
          ]
        }
      ]
    },
    {
      "cell_type": "code",
      "source": [
        "plot_confusion_matrix(conf_mtrx_multly, np.unique(df.isVirus), cmap=plt.cm.Blues)\n",
        "print(classification_report_multly)\n"
      ],
      "metadata": {
        "colab": {
          "base_uri": "https://localhost:8080/",
          "height": 453
        },
        "id": "HPiDIKyMObxm",
        "outputId": "4ae4760e-70f0-41a2-912a-9fcce4ed70c8"
      },
      "execution_count": 101,
      "outputs": [
        {
          "output_type": "display_data",
          "data": {
            "text/plain": [
              "<Figure size 432x288 with 2 Axes>"
            ],
            "image/png": "[encoded data removed]"
          },
          "metadata": {
            "needs_background": "light"
          }
        },
        {
          "output_type": "stream",
          "name": "stdout",
          "text": [
            "              precision    recall  f1-score   support\n",
            "\n",
            "       False       0.81      0.89      0.85       263\n",
            "        True       0.75      0.60      0.66       137\n",
            "\n",
            "    accuracy                           0.79       400\n",
            "   macro avg       0.78      0.75      0.76       400\n",
            "weighted avg       0.79      0.79      0.79       400\n",
            "\n"
          ]
        }
      ]
    },
    {
      "cell_type": "markdown",
      "source": [
        "Here, we will examine the results obtained from filling the missing values in our model with KNN."
      ],
      "metadata": {
        "id": "2ioyFR5DVXRm"
      }
    },
    {
      "cell_type": "code",
      "execution_count": 102,
      "metadata": {
        "colab": {
          "base_uri": "https://localhost:8080/",
          "height": 282
        },
        "id": "X03P7-HNKwPx",
        "outputId": "c8db5b05-c228-4fd9-b0f5-dd7f93c39bea"
      },
      "outputs": [
        {
          "output_type": "execute_result",
          "data": {
            "text/plain": [
              "<matplotlib.legend.Legend at 0x7f84f7d40e80>"
            ]
          },
          "metadata": {},
          "execution_count": 102
        },
        {
          "output_type": "display_data",
          "data": {
            "text/plain": [
              "<Figure size 432x288 with 1 Axes>"
            ],
            "image/png": "[encoded data removed]"
          },
          "metadata": {
            "needs_background": "light"
          }
        }
      ],
      "source": [
        "#Let's plot the ROC curves of our algorithms to analyze which algorithm performs better.\n",
        "\n",
        "\n",
        "\n",
        "\n",
        "from sklearn.metrics import roc_curve\n",
        "from sklearn.metrics import auc\n",
        "import matplotlib.pyplot as plt\n",
        "\n",
        "plt.figure(0).clf()\n",
        "\n",
        "y_test_cv = [int(v) for v in y_test]\n",
        "y_pred_knn_cv = [int(v) for v in y_pred_knn]\n",
        "y_pred_svm_cv = [int(v) for v in y_pred_svm]\n",
        "y_pred_nb_cv = [int(v) for v in y_pred_nb]\n",
        "\n",
        "y_pred_multly_cv = [int(v) for v in y_pred]\n",
        "\n",
        "\n",
        "fpr, tpr,_ = metrics.roc_curve(y_test_cv, y_pred_knn_cv)\n",
        "auc = round(metrics.roc_auc_score(y_test_cv, y_pred_knn_cv), 4)\n",
        "plt.plot(fpr,tpr,label=\"KNN, AUC=\"+str(auc))\n",
        "\n",
        "fpr, tpr,_  = metrics.roc_curve(y_test_cv, y_pred_svm_cv)\n",
        "auc = round(metrics.roc_auc_score(y_test_cv, y_pred_svm_cv), 4)\n",
        "plt.plot(fpr,tpr,label=\"SVM, AUC=\"+str(auc))\n",
        "\n",
        "fpr, tpr,_  = metrics.roc_curve(y_test_cv, y_pred_nb_cv)\n",
        "auc = round(metrics.roc_auc_score(y_test_cv, y_pred_nb_cv), 4)\n",
        "plt.plot(fpr,tpr,label=\"NB, AUC=\"+str(auc))\n",
        "\n",
        "fpr, tpr,_  = metrics.roc_curve(y_test_cv, y_pred_multly_cv)\n",
        "auc = round(metrics.roc_auc_score(y_test_cv, y_pred_multly_cv), 4)\n",
        "plt.plot(fpr,tpr,label=\"MultiLayer, AUC=\"+str(auc))\n",
        "\n",
        "\n",
        "plt.plot([0, 1], [0, 1],'r--')\n",
        "\n",
        "plt.legend()\n"
      ]
    },
    {
      "cell_type": "code",
      "source": [
        "import numpy as np\n",
        "from sklearn.impute import KNNImputer\n",
        "\n",
        "\n",
        "imputer = KNNImputer(n_neighbors=2)\n",
        "\n",
        "\n",
        "X_imputed = imputer.fit_transform(df)\n",
        "\n",
        "print(X_imputed)\n"
      ],
      "metadata": {
        "colab": {
          "base_uri": "https://localhost:8080/"
        },
        "id": "LMRcT-EoFirW",
        "outputId": "92968914-9048-4af4-84f8-5adf5bc8b44c"
      },
      "execution_count": 103,
      "outputs": [
        {
          "output_type": "stream",
          "name": "stdout",
          "text": [
            "[[-0.23346666  0.30879909  2.48401537  1.73272119  0.        ]\n",
            " [ 1.51900328  1.23848178  3.34445044  0.78374449  0.        ]\n",
            " [ 0.40064037  1.91674842  3.2910962  -0.91851908  0.        ]\n",
            " ...\n",
            " [ 4.05902725  1.97743561  2.14475954  4.25721965  0.        ]\n",
            " [ 3.45730965  3.96234174  3.77083696  3.24316822  0.        ]\n",
            " [ 3.5785215   3.34965446  3.30005748  1.56220853  0.        ]]\n"
          ]
        }
      ]
    },
    {
      "cell_type": "code",
      "source": [
        "from sklearn.model_selection import StratifiedKFold\n",
        "\n",
        "from sklearn.impute import SimpleImputer\n",
        "from sklearn.neighbors import KNeighborsClassifier\n",
        "from sklearn import metrics\n",
        "from sklearn.impute import SimpleImputer\n",
        "from sklearn.model_selection import train_test_split\n",
        "#We classify our data over knn by calling the Knn algorithm from the #Sklearn library\n",
        "from sklearn.model_selection import train_test_split\n",
        "from sklearn.impute import SimpleImputer\n",
        "from sklearn.neural_network import MLPClassifier\n",
        "from sklearn.model_selection import train_test_split\n",
        "from sklearn.metrics import accuracy_score\n",
        "import pandas as pd\n",
        "import statistics\n",
        "\n",
        "\n",
        "\n",
        "scores = []\n",
        "kfold = 10\n",
        "\n",
        "skfolds = StratifiedKFold(n_splits=kfold)\n",
        "\n",
        "bestScore = 0\n",
        "bestK = 0\n",
        "for k in range(1, 35, 2):\n",
        "\n",
        "    knn = KNeighborsClassifier(n_neighbors=k)\n",
        "    knnScores = cross_val_score(knn, X_imputed, y, cv=kfold, scoring=\"accuracy\")\n",
        "    X = df.drop('isVirus', axis=1) # featurelar\n",
        "    imputer = KNNImputer(n_neighbors=2)\n",
        "\n",
        "    # Eksik değerler KNN algoritması ile dolduruldu\n",
        "    X_imputed = imputer.fit_transform(X)\n",
        "\n",
        "    y = df['isVirus'] # hedef sütun\n",
        "\n",
        "    X_train, X_test, y_train, y_test = train_test_split(X_imputed, y, test_size=0.2, random_state=42)\n",
        "    knn = KNeighborsClassifier(n_neighbors=1)\n",
        "    knn.fit(X_train, y_train)\n",
        "\n",
        "    y_pred_knn= knn.predict(X_test)\n",
        "\n",
        "    knnScore = statistics.mean(knnScores)\n",
        "    scores.append(knnScore)\n",
        "    \n",
        "    print('Average accuracy in ', kfold, '- fold cross-validation for KNN with K=', k, ' is ', knnScore)\n",
        "    if knnScore > bestScore:\n",
        "        bestScore = knnScore\n",
        "        bestK = k\n",
        "\n",
        "print('')\n",
        "print('Best K is ', bestK, ' with best score as ', bestScore)\n",
        "\n",
        "plt.plot(scores)\n",
        "plt.title('K-fold Cross Validation, Test Accuracies with respect to K (for KNN)')\n"
      ],
      "metadata": {
        "colab": {
          "base_uri": "https://localhost:8080/",
          "height": 628
        },
        "id": "3XWSUlX9Fq4J",
        "outputId": "e4e04211-82a7-4086-aa39-65478dbb0737"
      },
      "execution_count": 114,
      "outputs": [
        {
          "output_type": "stream",
          "name": "stdout",
          "text": [
            "Average accuracy in  10 - fold cross-validation for KNN with K= 1  is  0.822962311557789\n",
            "Average accuracy in  10 - fold cross-validation for KNN with K= 3  is  0.8539698492462311\n",
            "Average accuracy in  10 - fold cross-validation for KNN with K= 5  is  0.8489623115577889\n",
            "Average accuracy in  10 - fold cross-validation for KNN with K= 7  is  0.8454673366834171\n",
            "Average accuracy in  10 - fold cross-validation for KNN with K= 9  is  0.8434698492462311\n",
            "Average accuracy in  10 - fold cross-validation for KNN with K= 11  is  0.8369623115577889\n",
            "Average accuracy in  10 - fold cross-validation for KNN with K= 13  is  0.8379623115577889\n",
            "Average accuracy in  10 - fold cross-validation for KNN with K= 15  is  0.8329572864321608\n",
            "Average accuracy in  10 - fold cross-validation for KNN with K= 17  is  0.8354572864321608\n",
            "Average accuracy in  10 - fold cross-validation for KNN with K= 19  is  0.8284547738693467\n",
            "Average accuracy in  10 - fold cross-validation for KNN with K= 21  is  0.8249572864321608\n",
            "Average accuracy in  10 - fold cross-validation for KNN with K= 23  is  0.8244547738693467\n",
            "Average accuracy in  10 - fold cross-validation for KNN with K= 25  is  0.8239547738693467\n",
            "Average accuracy in  10 - fold cross-validation for KNN with K= 27  is  0.8209547738693468\n",
            "Average accuracy in  10 - fold cross-validation for KNN with K= 29  is  0.8169547738693468\n",
            "Average accuracy in  10 - fold cross-validation for KNN with K= 31  is  0.8189497487437186\n",
            "Average accuracy in  10 - fold cross-validation for KNN with K= 33  is  0.8144497487437186\n",
            "\n",
            "Best K is  3  with best score as  0.8539698492462311\n"
          ]
        },
        {
          "output_type": "execute_result",
          "data": {
            "text/plain": [
              "Text(0.5, 1.0, 'K-fold Cross Validation, Test Accuracies with respect to K (for KNN)')"
            ]
          },
          "metadata": {},
          "execution_count": 114
        },
        {
          "output_type": "display_data",
          "data": {
            "text/plain": [
              "<Figure size 432x288 with 1 Axes>"
            ],
            "image/png": "[encoded data removed]"
          },
          "metadata": {
            "needs_background": "light"
          }
        }
      ]
    },
    {
      "cell_type": "markdown",
      "source": [
        "Here, we choose our K value as 3. While our selected value was 85 in our first model, our accuracy value is found as 85.25 here. We will decide by examining the confusion matrices later on."
      ],
      "metadata": {
        "id": "S0IRzHxkWCCD"
      }
    },
    {
      "cell_type": "code",
      "source": [
        "knn = KNeighborsClassifier(n_neighbors=3)\n",
        "knn.fit(X_train, y_train)\n",
        "\n",
        "y_pred_knn= knn.predict(X_test)\n",
        "accuracy = accuracy_score(y_test, y_pred_knn)\n",
        "print('Accuracy:', accuracy)\n"
      ],
      "metadata": {
        "colab": {
          "base_uri": "https://localhost:8080/"
        },
        "id": "FKHqHc-1KBhA",
        "outputId": "d430e184-7555-4d82-c38a-d5c5ddce8f25"
      },
      "execution_count": 120,
      "outputs": [
        {
          "output_type": "stream",
          "name": "stdout",
          "text": [
            "Accuracy: 0.8525\n"
          ]
        }
      ]
    },
    {
      "cell_type": "code",
      "source": [
        "\n",
        "\n",
        "# Create a multi-layer perceptron neural network\n",
        "mlp = MLPClassifier(hidden_layer_sizes=(10, 5), max_iter=1000)\n",
        "\n",
        "# Fit the neural network to the training data\n",
        "mlp.fit(X_train, y_train)\n",
        "\n",
        "# Make predictions on the testing data\n",
        "y_pred = mlp.predict(X_test)\n",
        "\n",
        "# Calculate the accuracy of the predictions\n",
        "accuracy = accuracy_score(y_test, y_pred)\n",
        "print('Accuracy:', accuracy)"
      ],
      "metadata": {
        "colab": {
          "base_uri": "https://localhost:8080/"
        },
        "id": "slwhEuDnGtUw",
        "outputId": "a22e4055-967e-41af-c617-893eb15d0570"
      },
      "execution_count": 121,
      "outputs": [
        {
          "output_type": "stream",
          "name": "stdout",
          "text": [
            "Accuracy: 0.855\n"
          ]
        },
        {
          "output_type": "stream",
          "name": "stderr",
          "text": [
            "/usr/local/lib/python3.8/dist-packages/sklearn/neural_network/_multilayer_perceptron.py:684: ConvergenceWarning: Stochastic Optimizer: Maximum iterations (1000) reached and the optimization hasn't converged yet.\n",
            "  warnings.warn(\n"
          ]
        }
      ]
    },
    {
      "cell_type": "code",
      "source": [
        "##Here again, we call the svm classifier from the sklearn library and get the results.\"\"\"\n",
        "from sklearn.model_selection import cross_val_score\n",
        "from sklearn.svm import SVC\n",
        "import numpy as np\n",
        "import pandas as pd\n",
        "\n",
        "\n",
        "# SVM sınıflandırıcısını oluşturma\n",
        "clf = SVC(kernel='linear', C=1, random_state=42)\n",
        "\n",
        "\n",
        "scores = cross_val_score(clf, X_imputed, y, cv=5)\n",
        "\n",
        "mean_accuracy = np.mean(scores)\n",
        "\n",
        "print(\"Cross-Validation Sonuçları: \", scores)\n",
        "print(\"Ortalama Doğruluk Değeri: \", mean_accuracy)\n",
        "\n",
        "\n",
        "from sklearn import svm\n",
        "\n",
        "svm = svm.SVC(kernel='linear', probability=True)\n",
        "svm.fit(X_train, y_train)\n",
        "y_pred_svm = svm.predict(X_test)\n",
        "\n",
        "\n",
        "print(\"Test accuracy score for SVM classification is: \",metrics.accuracy_score(y_test, y_pred_svm))"
      ],
      "metadata": {
        "colab": {
          "base_uri": "https://localhost:8080/"
        },
        "id": "PUYQSHb4HSg0",
        "outputId": "3419e458-e996-4e9e-cb68-aa0ff3db5e52"
      },
      "execution_count": 122,
      "outputs": [
        {
          "output_type": "stream",
          "name": "stdout",
          "text": [
            "Cross-Validation Sonuçları:  [0.445      0.27       0.675      0.665      0.66666667]\n",
            "Ortalama Doğruluk Değeri:  0.5443333333333333\n",
            "Test accuracy score for SVM classification is:  0.665\n"
          ]
        }
      ]
    },
    {
      "cell_type": "code",
      "source": [
        "##Here, we finally classify using the Naïve Bayes library on our data.\n",
        "from sklearn.naive_bayes import GaussianNB\n",
        "\n",
        "nb = GaussianNB()\n",
        "nb.fit(X_train, y_train)\n",
        "\n",
        "y_pred_nb = nb.predict(X_test)\n",
        "\n",
        "print(\"Test accuracy score for Naive Bayes classification is: \",metrics.accuracy_score(y_test, y_pred_nb))"
      ],
      "metadata": {
        "colab": {
          "base_uri": "https://localhost:8080/"
        },
        "id": "oWZj1gTcHffe",
        "outputId": "80de64dc-84b9-4c75-c88e-c3b116967b1b"
      },
      "execution_count": 123,
      "outputs": [
        {
          "output_type": "stream",
          "name": "stdout",
          "text": [
            "Test accuracy score for Naive Bayes classification is:  0.68\n"
          ]
        }
      ]
    },
    {
      "cell_type": "code",
      "source": [
        "## Likewise, by calling the confusion_matrix algorithm from the sklearn.metrics library, \n",
        "##we create confusion matrixes of the predictions we made above with different classifications.\n",
        "from sklearn.metrics import confusion_matrix, classification_report\n",
        "\n",
        "conf_mtrx_knn = confusion_matrix(y_test, y_pred_knn)\n",
        "conf_mtrx_svm = confusion_matrix(y_test, y_pred_svm)\n",
        "conf_mtrx_nb = confusion_matrix(y_test, y_pred_nb)\n",
        "conf_mtrx_multly = confusion_matrix(y_test, y_pred)\n",
        "\n",
        "classification_report_knn = classification_report(y_test, y_pred_knn)\n",
        "classification_report_svm = classification_report(y_test, y_pred_svm)\n",
        "classification_report_nb = classification_report(y_test, y_pred_nb)\n",
        "classification_report_multly = classification_report(y_test, y_pred)\n",
        "\n",
        "from matplotlib import pyplot as plt\n",
        "\n",
        "def plot_confusion_matrix(conf_mtrx, classes, cmap=plt.cm.Blues):\n",
        "    num_class = conf_mtrx.shape[0]\n",
        "\n",
        "    fig, ax = plt.subplots()\n",
        "    im = ax.imshow(conf_mtrx, interpolation='nearest', cmap=cmap)\n",
        "    ax.figure.colorbar(im, ax=ax)\n",
        "    ax.set(xticks=np.arange(num_class), yticks=np.arange(num_class),\n",
        "           xticklabels=classes, yticklabels=classes, \n",
        "           ylabel='True label', xlabel='Predicted label')\n",
        "\n",
        "    middle_threshold = conf_mtrx.max() / 2.\n",
        "    for row in range(num_class):\n",
        "        for col in range(num_class):\n",
        "            ax.text(col, row, format(conf_mtrx[row, col], '.0f'), ha=\"center\", va=\"center\",\n",
        "                    color=\"white\" if conf_mtrx[row, col] > middle_threshold else \"black\")\n",
        "    fig.tight_layout()\n",
        "    plt.show()\n",
        "\n"
      ],
      "metadata": {
        "id": "U7DM2LQWHpBM"
      },
      "execution_count": 124,
      "outputs": []
    },
    {
      "cell_type": "code",
      "source": [
        "plot_confusion_matrix(conf_mtrx_knn, np.unique(df.isVirus), cmap=plt.cm.Blues)\n",
        "print(classification_report_knn)\n"
      ],
      "metadata": {
        "colab": {
          "base_uri": "https://localhost:8080/",
          "height": 453
        },
        "id": "YqUSu2KmHtiI",
        "outputId": "899cc531-95b3-4d68-8d69-3a01857636f9"
      },
      "execution_count": 125,
      "outputs": [
        {
          "output_type": "display_data",
          "data": {
            "text/plain": [
              "<Figure size 432x288 with 2 Axes>"
            ],
            "image/png": "[encoded data removed]"
          },
          "metadata": {
            "needs_background": "light"
          }
        },
        {
          "output_type": "stream",
          "name": "stdout",
          "text": [
            "              precision    recall  f1-score   support\n",
            "\n",
            "       False       0.87      0.91      0.89       263\n",
            "        True       0.81      0.74      0.77       137\n",
            "\n",
            "    accuracy                           0.85       400\n",
            "   macro avg       0.84      0.82      0.83       400\n",
            "weighted avg       0.85      0.85      0.85       400\n",
            "\n"
          ]
        }
      ]
    },
    {
      "cell_type": "code",
      "source": [
        "plot_confusion_matrix(conf_mtrx_svm, np.unique(df.isVirus), cmap=plt.cm.Blues)\n",
        "print(classification_report_svm)\n",
        "\n"
      ],
      "metadata": {
        "colab": {
          "base_uri": "https://localhost:8080/",
          "height": 453
        },
        "id": "n8tQOq6HHx4S",
        "outputId": "8fcf91a6-52b7-42be-9e34-f2d2caa8d92f"
      },
      "execution_count": 126,
      "outputs": [
        {
          "output_type": "display_data",
          "data": {
            "text/plain": [
              "<Figure size 432x288 with 2 Axes>"
            ],
            "image/png": "[encoded data removed]"
          },
          "metadata": {
            "needs_background": "light"
          }
        },
        {
          "output_type": "stream",
          "name": "stdout",
          "text": [
            "              precision    recall  f1-score   support\n",
            "\n",
            "       False       0.70      0.86      0.77       263\n",
            "        True       0.52      0.30      0.38       137\n",
            "\n",
            "    accuracy                           0.67       400\n",
            "   macro avg       0.61      0.58      0.58       400\n",
            "weighted avg       0.64      0.67      0.64       400\n",
            "\n"
          ]
        }
      ]
    },
    {
      "cell_type": "code",
      "source": [
        "plot_confusion_matrix(conf_mtrx_nb, np.unique(df.isVirus), cmap=plt.cm.Blues)\n",
        "print(classification_report_nb)\n",
        "\n"
      ],
      "metadata": {
        "colab": {
          "base_uri": "https://localhost:8080/",
          "height": 453
        },
        "id": "_xgt5YZfH2jk",
        "outputId": "3a82e105-5af4-413b-a82a-9c13733d1083"
      },
      "execution_count": 127,
      "outputs": [
        {
          "output_type": "display_data",
          "data": {
            "text/plain": [
              "<Figure size 432x288 with 2 Axes>"
            ],
            "image/png": "[encoded data removed]"
          },
          "metadata": {
            "needs_background": "light"
          }
        },
        {
          "output_type": "stream",
          "name": "stdout",
          "text": [
            "              precision    recall  f1-score   support\n",
            "\n",
            "       False       0.86      0.61      0.72       263\n",
            "        True       0.52      0.81      0.63       137\n",
            "\n",
            "    accuracy                           0.68       400\n",
            "   macro avg       0.69      0.71      0.67       400\n",
            "weighted avg       0.74      0.68      0.69       400\n",
            "\n"
          ]
        }
      ]
    },
    {
      "cell_type": "markdown",
      "source": [
        "As a result, by using KNN to predict missing values and using a multi-layer perceptron neural network model, we only miss 18 viruses. Assuming that the cost of viruses is higher for the company compared to non-viruses, this model has been selected."
      ],
      "metadata": {
        "id": "VHK0x4iaWqmk"
      }
    },
    {
      "cell_type": "code",
      "source": [
        "plot_confusion_matrix(conf_mtrx_multly, np.unique(df.isVirus), cmap=plt.cm.Blues)\n",
        "print(classification_report_multly)\n"
      ],
      "metadata": {
        "colab": {
          "base_uri": "https://localhost:8080/",
          "height": 453
        },
        "id": "4-NCLaYwH6NX",
        "outputId": "c1051cbd-cd83-491b-b874-a8eae06f4f1d"
      },
      "execution_count": 128,
      "outputs": [
        {
          "output_type": "display_data",
          "data": {
            "text/plain": [
              "<Figure size 432x288 with 2 Axes>"
            ],
            "image/png": "[encoded data removed]"
          },
          "metadata": {
            "needs_background": "light"
          }
        },
        {
          "output_type": "stream",
          "name": "stdout",
          "text": [
            "              precision    recall  f1-score   support\n",
            "\n",
            "       False       0.86      0.93      0.89       263\n",
            "        True       0.84      0.71      0.77       137\n",
            "\n",
            "    accuracy                           0.85       400\n",
            "   macro avg       0.85      0.82      0.83       400\n",
            "weighted avg       0.85      0.85      0.85       400\n",
            "\n"
          ]
        }
      ]
    },
    {
      "cell_type": "code",
      "source": [
        "#Sorry about that. Here is the translation\n",
        "#Let's plot the ROC curves of our algorithms to analyze which algorithm performs better.\n",
        "from sklearn.metrics import roc_curve\n",
        "from sklearn.metrics import auc\n",
        "import matplotlib.pyplot as plt\n",
        "\n",
        "plt.figure(0).clf()\n",
        "\n",
        "y_test_cv = [int(v) for v in y_test]\n",
        "y_pred_knn_cv = [int(v) for v in y_pred_knn]\n",
        "y_pred_svm_cv = [int(v) for v in y_pred_svm]\n",
        "y_pred_nb_cv = [int(v) for v in y_pred_nb]\n",
        "\n",
        "y_pred_multly_cv = [int(v) for v in y_pred]\n",
        "\n",
        "\n",
        "fpr, tpr,_ = metrics.roc_curve(y_test_cv, y_pred_knn_cv)\n",
        "auc = round(metrics.roc_auc_score(y_test_cv, y_pred_knn_cv), 4)\n",
        "plt.plot(fpr,tpr,label=\"KNN, AUC=\"+str(auc))\n",
        "\n",
        "fpr, tpr,_  = metrics.roc_curve(y_test_cv, y_pred_svm_cv)\n",
        "auc = round(metrics.roc_auc_score(y_test_cv, y_pred_svm_cv), 4)\n",
        "plt.plot(fpr,tpr,label=\"SVM, AUC=\"+str(auc))\n",
        "\n",
        "fpr, tpr,_  = metrics.roc_curve(y_test_cv, y_pred_nb_cv)\n",
        "auc = round(metrics.roc_auc_score(y_test_cv, y_pred_nb_cv), 4)\n",
        "plt.plot(fpr,tpr,label=\"NB, AUC=\"+str(auc))\n",
        "\n",
        "fpr, tpr,_  = metrics.roc_curve(y_test_cv, y_pred_multly_cv)\n",
        "auc = round(metrics.roc_auc_score(y_test_cv, y_pred_multly_cv), 4)\n",
        "plt.plot(fpr,tpr,label=\"MultiLayer, AUC=\"+str(auc))\n",
        "\n",
        "\n",
        "plt.plot([0, 1], [0, 1],'r--')\n",
        "\n",
        "plt.legend()\n"
      ],
      "metadata": {
        "colab": {
          "base_uri": "https://localhost:8080/",
          "height": 282
        },
        "id": "mHbdXufrJpsv",
        "outputId": "a70a3aba-f042-4cd5-8ca0-29944ce67de7"
      },
      "execution_count": 129,
      "outputs": [
        {
          "output_type": "execute_result",
          "data": {
            "text/plain": [
              "<matplotlib.legend.Legend at 0x7f84f74bbe20>"
            ]
          },
          "metadata": {},
          "execution_count": 129
        },
        {
          "output_type": "display_data",
          "data": {
            "text/plain": [
              "<Figure size 432x288 with 1 Axes>"
            ],
            "image/png": "[encoded data removed]"
          },
          "metadata": {
            "needs_background": "light"
          }
        }
      ]
    },
    {
      "cell_type": "markdown",
      "source": [
        "Our final score and model is that "
      ],
      "metadata": {
        "id": "TvLp9iyyXYuw"
      }
    },
    {
      "cell_type": "code",
      "source": [
        "# Create a multi-layer perceptron neural network\n",
        "mlp = MLPClassifier(hidden_layer_sizes=(10, 5), max_iter=1000)\n",
        "\n",
        "# Fit the neural network to the training data\n",
        "mlp.fit(X_train, y_train)\n",
        "\n",
        "# Make predictions on the testing data\n",
        "y_pred = mlp.predict(X_test)\n",
        "\n",
        "# Calculate the accuracy of the predictions\n",
        "accuracy = accuracy_score(y_test, y_pred)\n",
        "print('Accuracy:', accuracy)"
      ],
      "metadata": {
        "id": "NiZmU265XtHM"
      },
      "execution_count": null,
      "outputs": []
    },
    {
      "cell_type": "code",
      "source": [
        "plot_confusion_matrix(conf_mtrx_multly, np.unique(df.isVirus), cmap=plt.cm.Blues)\n",
        "print(classification_report_multly)\n"
      ],
      "metadata": {
        "colab": {
          "base_uri": "https://localhost:8080/",
          "height": 453
        },
        "id": "rX11GrHhXVSO",
        "outputId": "bdfe8d73-fc47-4f16-eb56-e463f9eb33d3"
      },
      "execution_count": 153,
      "outputs": [
        {
          "output_type": "display_data",
          "data": {
            "text/plain": [
              "<Figure size 432x288 with 2 Axes>"
            ],
            "image/png": "[encoded data removed]"
          },
          "metadata": {
            "needs_background": "light"
          }
        },
        {
          "output_type": "stream",
          "name": "stdout",
          "text": [
            "              precision    recall  f1-score   support\n",
            "\n",
            "       False       0.86      0.93      0.89       263\n",
            "        True       0.84      0.71      0.77       137\n",
            "\n",
            "    accuracy                           0.85       400\n",
            "   macro avg       0.85      0.82      0.83       400\n",
            "weighted avg       0.85      0.85      0.85       400\n",
            "\n"
          ]
        }
      ]
    }
  ]
}